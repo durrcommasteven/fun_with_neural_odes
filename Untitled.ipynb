{
 "cells": [
  {
   "cell_type": "code",
   "execution_count": 1,
   "id": "5b4c9a3a",
   "metadata": {},
   "outputs": [],
   "source": [
    "from Adjoint_Implementation import *"
   ]
  },
  {
   "cell_type": "code",
   "execution_count": 2,
   "id": "f5abfc22",
   "metadata": {},
   "outputs": [],
   "source": [
    "import copy"
   ]
  },
  {
   "cell_type": "code",
   "execution_count": 3,
   "id": "b11d5c5b",
   "metadata": {},
   "outputs": [],
   "source": [
    "def EulerSolve(t1, x0, f, dt = 0.001, t0=0, reverse=False):\n",
    "    #f(z, t)\n",
    "    \n",
    "    ts = np.arange(t0, t1, dt)\n",
    "    if reverse:\n",
    "        ts = np.arange(t1, t0, -dt)\n",
    "    \n",
    "    z = x0.copy()\n",
    "    \n",
    "    outlen = len(x0)\n",
    "    \n",
    "    path = [z]\n",
    "    \n",
    "    for t in ts:\n",
    "        el = path[-1].copy()\n",
    "        \n",
    "        if not reverse:\n",
    "            el += dt*f(el)#, t)\n",
    "        else:\n",
    "            el -= dt*f(el)#, t)\n",
    "        \n",
    "        path.append(el)\n",
    "    return np.reshape(np.array(path, dtype = np.float32), (-1, outlen))"
   ]
  },
  {
   "cell_type": "code",
   "execution_count": 4,
   "id": "0d6af85f",
   "metadata": {},
   "outputs": [],
   "source": [
    "from scipy.integrate import odeint"
   ]
  },
  {
   "cell_type": "markdown",
   "id": "3584905a",
   "metadata": {},
   "source": [
    "def EulerSolve(t1, x0, f, dt = 0.01, t0=0, reverse=False):\n",
    "    #f(z, t)\n",
    "    \n",
    "    ts = np.arange(t0, t1, dt)\n",
    "    \n",
    "    \n",
    "    sol = odeint(lambda x, t: f(x), x0, ts)\n",
    "    \n",
    "    \n",
    "    return sol"
   ]
  },
  {
   "cell_type": "code",
   "execution_count": 5,
   "id": "7b839944",
   "metadata": {},
   "outputs": [
    {
     "data": {
      "text/plain": [
       "array([[0.        ],\n",
       "       [0.00909297],\n",
       "       [0.01806906],\n",
       "       ...,\n",
       "       [0.38053042],\n",
       "       [0.38053042],\n",
       "       [0.38053042]], dtype=float32)"
      ]
     },
     "execution_count": 5,
     "metadata": {},
     "output_type": "execute_result"
    }
   ],
   "source": [
    "EulerSolve(t1=10, x0=np.array([0], dtype=np.float32), f=lambda x: np.sin(2+3*x), dt = 0.01, t0=0, reverse=False)"
   ]
  },
  {
   "cell_type": "markdown",
   "id": "97b693d9",
   "metadata": {},
   "source": [
    "EulerSolve(t1=10, x0=0, f=lambda x: np.sin(2+3*x), dt = 0.01, t0=0, reverse=False)"
   ]
  },
  {
   "cell_type": "code",
   "execution_count": null,
   "id": "b1516d49",
   "metadata": {},
   "outputs": [],
   "source": []
  },
  {
   "cell_type": "code",
   "execution_count": 6,
   "id": "65fd70ee",
   "metadata": {},
   "outputs": [],
   "source": [
    "ff = DynamicNN()"
   ]
  },
  {
   "cell_type": "code",
   "execution_count": 7,
   "id": "04a084d3",
   "metadata": {},
   "outputs": [],
   "source": [
    "class DynamicNN(nn.Module):\n",
    "    def __init__(self):\n",
    "        super().__init__()\n",
    "        #lets try a simple model\n",
    "        \n",
    "        #self.freq = torch.nn.parameter.Parameter(torch.Tensor([1]))\n",
    "        \n",
    "        #self.f = nn.Linear(1, 1, bias=True)\n",
    "        \n",
    "        self.f = nn.Parameter(torch.Tensor([0, 3]))\n",
    "        \n",
    "        self.p_shapes = None\n",
    "    \n",
    "    def forward(self, x):\n",
    "        #print(x, self.f(x), torch.sin(self.f(x)*100))\n",
    "        \n",
    "        return self.f[0]*x\n",
    "        \n",
    "        return torch.sin(self.f(x))\n",
    "        \n",
    "        return self.f(x)#torch.sin(self.f(x)*100) + torch.abs(x)**3\n",
    "    \n",
    "    def get_jacobian(self, x, out_type='numpy'):\n",
    "        \"\"\"\n",
    "        This is a sort of a misapplication of the \n",
    "        use of batches. Here we make a batch of \n",
    "        n copies of the data, one for each \n",
    "        of the function outputs. We take the gradient\n",
    "        of each of the outputs, and recombine to get\n",
    "        the jacobian\n",
    "        \"\"\"\n",
    "        #x should be a torch tensor of shape\n",
    "        #(len x + len a + len a_p)\n",
    "        \n",
    "        noutputs = x.shape[-1]\n",
    "        \n",
    "        x = x.repeat(noutputs, 1)\n",
    "        \n",
    "        x.requires_grad_(True)\n",
    "        #y = self.f(x)\n",
    "        y = self.forward(x)\n",
    "        \n",
    "        y.backward(torch.eye(noutputs))\n",
    "        \n",
    "        if out_type == 'numpy':\n",
    "            return x.grad.data.detach().numpy()\n",
    "        else:\n",
    "            return x.grad.data\n",
    "    \n",
    "    def get_parameter_jacobian(self, x, out_type='numpy'):\n",
    "        \"\"\"\n",
    "        I dont know a way to do this rapidly\n",
    "        lets do a repetition for each output\n",
    "        \"\"\"\n",
    "        \n",
    "        noutputs = x.shape[-1]\n",
    "        param_grads = []\n",
    "        \n",
    "        for out_index in range(noutputs):\n",
    "            \n",
    "            y=self.forward(x)\n",
    "            \n",
    "            #set grads to zero so they dont accumulate\n",
    "            for p in self.parameters():\n",
    "                if type(p.grad) != type(None):\n",
    "                    p.grad.zero_()\n",
    "            \n",
    "            #backprop\n",
    "            y[out_index].backward()\n",
    "            \n",
    "            #now get grads and flatten them \n",
    "            param_grads.append(self.flatten_param_grads())\n",
    "        \n",
    "        if out_type == 'numpy':\n",
    "            return torch.stack(param_grads).detach().numpy()\n",
    "        else:\n",
    "            return torch.stack(param_grads)\n",
    "    \n",
    "    def flatten_param_grads(self):\n",
    "        \"\"\"\n",
    "        return the grads of the parameters\n",
    "        which have been systematically and \n",
    "        replicably flattened\n",
    "        \"\"\"\n",
    "        self.p_shapes = []\n",
    "        self.flat_params = []\n",
    "        \n",
    "        with torch.no_grad():\n",
    "            for p in self.parameters():\n",
    "                self.p_shapes.append(p.size())\n",
    "                self.flat_params.append(p.grad.flatten())\n",
    "        \n",
    "        return torch.cat(self.flat_params)\n",
    "    \n",
    "    def unflatten_param_grads(self, grads):\n",
    "        \"\"\"\n",
    "        restore the param grads to their original shapes\n",
    "        \n",
    "        set param grads equal to grads\n",
    "        \n",
    "        grads can be either array or tensor\n",
    "        this converts them to tensors before working with them\n",
    "        \"\"\"\n",
    "        \n",
    "        print(\"grads\", grads)\n",
    "        \n",
    "        assert(len(grads.shape)==1)\n",
    "        \n",
    "        #ensure we have a tensor\n",
    "        grads = torch.tensor(grads, dtype=torch.float32)\n",
    "        \n",
    "        count=0\n",
    "        with torch.no_grad():\n",
    "            for i, p in enumerate(self.parameters()):\n",
    "                print(i, p)\n",
    "                shape = self.p_shapes[i]\n",
    "                size = reduce(operator.mul, shape, 1)\n",
    "                \n",
    "                #to be safe, if this has a gradient already, \n",
    "                #remove it\n",
    "                if type(p.grad)!= type(None):\n",
    "                    p.grad.zero_()\n",
    "                \n",
    "                #now assign it the appropriate gradient\n",
    "                p.grad = grads[count:count+size].view(shape)\n",
    "                \n",
    "                count += size\n",
    "        assert(count == len(grads))\n",
    "        \n",
    "    def descend(self, lr):\n",
    "        \"\"\"\n",
    "        descend weights by grads multiplied by dx\n",
    "        \"\"\"\n",
    "        with torch.no_grad():\n",
    "            for param in self.parameters():\n",
    "                param -= param.grad*lr"
   ]
  },
  {
   "cell_type": "code",
   "execution_count": 8,
   "id": "fc09940f",
   "metadata": {},
   "outputs": [],
   "source": [
    "input_dims = 1\n",
    "\n",
    "time_deriv_nn = DynamicNN()\n",
    "\n",
    "ode_solver = EulerSolve"
   ]
  },
  {
   "cell_type": "code",
   "execution_count": 9,
   "id": "00366c8f",
   "metadata": {},
   "outputs": [],
   "source": [
    "adj = AdjointMethod(\n",
    "    input_dims=input_dims,\n",
    "    time_deriv_nn=time_deriv_nn,\n",
    "    ode_solver=ode_solver\n",
    ")"
   ]
  },
  {
   "cell_type": "code",
   "execution_count": 10,
   "id": "396cf3c7",
   "metadata": {},
   "outputs": [],
   "source": [
    "adj.set_loss_func(\n",
    "    lambda x: (x-5)**2\n",
    ")"
   ]
  },
  {
   "cell_type": "code",
   "execution_count": 11,
   "id": "b6d78f3d",
   "metadata": {},
   "outputs": [
    {
     "name": "stdout",
     "output_type": "stream",
     "text": [
      "grads [-7.9999256  0.       ]\n",
      "0 Parameter containing:\n",
      "tensor([0., 3.], requires_grad=True)\n",
      "whats this value? 1.0832863\n",
      "grads [-8.485796  0.      ]\n",
      "0 Parameter containing:\n",
      "tensor([0.0800, 3.0000], requires_grad=True)\n",
      "whats this value? 1.1792247\n",
      "grads [-9.010857  0.      ]\n",
      "0 Parameter containing:\n",
      "tensor([0.1649, 3.0000], requires_grad=True)\n",
      "whats this value? 1.2904174\n",
      "grads [-9.573298  0.      ]\n",
      "0 Parameter containing:\n",
      "tensor([0.2550, 3.0000], requires_grad=True)\n",
      "whats this value? 1.4200594\n",
      "grads [-10.166496   0.      ]\n",
      "0 Parameter containing:\n",
      "tensor([0.3507, 3.0000], requires_grad=True)\n",
      "whats this value? 1.5720236\n",
      "grads [-10.776016   0.      ]\n",
      "0 Parameter containing:\n",
      "tensor([0.4524, 3.0000], requires_grad=True)\n",
      "whats this value? 1.7508894\n",
      "grads [-11.375078   0.      ]\n",
      "0 Parameter containing:\n",
      "tensor([0.5601, 3.0000], requires_grad=True)\n",
      "whats this value? 1.9618242\n",
      "grads [-11.917085   0.      ]\n",
      "0 Parameter containing:\n",
      "tensor([0.6739, 3.0000], requires_grad=True)\n",
      "whats this value? 2.2101173\n",
      "grads [-12.327258   0.      ]\n",
      "0 Parameter containing:\n",
      "tensor([0.7930, 3.0000], requires_grad=True)\n",
      "whats this value? 2.5000684\n",
      "grads [-12.494753   0.      ]\n",
      "0 Parameter containing:\n",
      "tensor([0.9163, 3.0000], requires_grad=True)\n",
      "whats this value? 2.8327994\n",
      "grads [-12.273882   0.      ]\n",
      "0 Parameter containing:\n",
      "tensor([1.0413, 3.0000], requires_grad=True)\n",
      "whats this value? 3.2027328\n",
      "grads [-11.510628   0.      ]\n",
      "0 Parameter containing:\n",
      "tensor([1.1640, 3.0000], requires_grad=True)\n",
      "whats this value? 3.5934422\n",
      "grads [-10.113316   0.      ]\n",
      "0 Parameter containing:\n",
      "tensor([1.2791, 3.0000], requires_grad=True)\n",
      "whats this value? 3.9758706\n",
      "grads [-8.158119  0.      ]\n",
      "0 Parameter containing:\n",
      "tensor([1.3802, 3.0000], requires_grad=True)\n",
      "whats this value? 4.313825\n",
      "grads [-5.947045  0.      ]\n",
      "0 Parameter containing:\n",
      "tensor([1.4618, 3.0000], requires_grad=True)\n",
      "whats this value? 4.578152\n",
      "grads [-3.9019573  0.       ]\n",
      "0 Parameter containing:\n",
      "tensor([1.5213, 3.0000], requires_grad=True)\n",
      "whats this value? 4.7603207\n",
      "grads [-2.3313587  0.       ]\n",
      "0 Parameter containing:\n",
      "tensor([1.5603, 3.0000], requires_grad=True)\n",
      "whats this value? 4.872605\n",
      "grads [-1.2976896  0.       ]\n",
      "0 Parameter containing:\n",
      "tensor([1.5836, 3.0000], requires_grad=True)\n",
      "whats this value? 4.9362483\n",
      "grads [-0.6896707  0.       ]\n",
      "0 Parameter containing:\n",
      "tensor([1.5966, 3.0000], requires_grad=True)\n",
      "whats this value? 4.97041\n",
      "grads [-0.35665604  0.        ]\n",
      "0 Parameter containing:\n",
      "tensor([1.6035, 3.0000], requires_grad=True)\n",
      "whats this value? 4.9881682\n",
      "grads [-0.1817602  0.       ]\n",
      "0 Parameter containing:\n",
      "tensor([1.6071, 3.0000], requires_grad=True)\n",
      "whats this value? 4.9972434\n",
      "grads [-0.09181275  0.        ]\n",
      "0 Parameter containing:\n",
      "tensor([1.6089, 3.0000], requires_grad=True)\n",
      "whats this value? 5.0018334\n",
      "grads [-0.04622675  0.        ]\n",
      "0 Parameter containing:\n",
      "tensor([1.6098, 3.0000], requires_grad=True)\n",
      "whats this value? 5.004146\n",
      "grads [-0.02326681  0.        ]\n",
      "0 Parameter containing:\n",
      "tensor([1.6103, 3.0000], requires_grad=True)\n",
      "whats this value? 5.005311\n",
      "grads [-0.0116361  0.       ]\n",
      "0 Parameter containing:\n",
      "tensor([1.6105, 3.0000], requires_grad=True)\n",
      "whats this value? 5.005893\n",
      "grads [-0.00588063  0.        ]\n",
      "0 Parameter containing:\n",
      "tensor([1.6106, 3.0000], requires_grad=True)\n",
      "whats this value? 5.0061874\n",
      "grads [-0.00299524  0.        ]\n",
      "0 Parameter containing:\n",
      "tensor([1.6107, 3.0000], requires_grad=True)\n",
      "whats this value? 5.006337\n",
      "grads [-0.001381  0.      ]\n",
      "0 Parameter containing:\n",
      "tensor([1.6107, 3.0000], requires_grad=True)\n",
      "whats this value? 5.0064063\n",
      "grads [-0.00078575  0.        ]\n",
      "0 Parameter containing:\n",
      "tensor([1.6107, 3.0000], requires_grad=True)\n",
      "whats this value? 5.006446\n",
      "grads [-0.00031906  0.        ]\n",
      "0 Parameter containing:\n",
      "tensor([1.6107, 3.0000], requires_grad=True)\n",
      "whats this value? 5.006462\n",
      "grads [-0.00015715  0.        ]\n",
      "0 Parameter containing:\n",
      "tensor([1.6107, 3.0000], requires_grad=True)\n",
      "whats this value? 5.0064697\n",
      "grads [-9.5243704e-05  0.0000000e+00]\n",
      "0 Parameter containing:\n",
      "tensor([1.6107, 3.0000], requires_grad=True)\n",
      "whats this value? 5.006474\n",
      "grads [-6.19085e-05  0.00000e+00]\n",
      "0 Parameter containing:\n",
      "tensor([1.6107, 3.0000], requires_grad=True)\n",
      "whats this value? 5.006478\n",
      "grads [-5.2384137e-05  0.0000000e+00]\n",
      "0 Parameter containing:\n",
      "tensor([1.6107, 3.0000], requires_grad=True)\n",
      "whats this value? 5.0064797\n",
      "grads [-2.8573175e-05  0.0000000e+00]\n",
      "0 Parameter containing:\n",
      "tensor([1.6107, 3.0000], requires_grad=True)\n",
      "whats this value? 5.006481\n",
      "grads [-1.4286595e-05  0.0000000e+00]\n",
      "0 Parameter containing:\n",
      "tensor([1.6107, 3.0000], requires_grad=True)\n",
      "whats this value? 5.006482\n",
      "grads [-1.4286595e-05  0.0000000e+00]\n",
      "0 Parameter containing:\n",
      "tensor([1.6107, 3.0000], requires_grad=True)\n",
      "whats this value? 5.006482\n",
      "grads [-1.4286596e-05  0.0000000e+00]\n",
      "0 Parameter containing:\n",
      "tensor([1.6107, 3.0000], requires_grad=True)\n",
      "whats this value? 5.0064826\n",
      "grads [-1.4286596e-05  0.0000000e+00]\n",
      "0 Parameter containing:\n",
      "tensor([1.6107, 3.0000], requires_grad=True)\n",
      "whats this value? 5.006483\n",
      "grads [-9.524394e-06  0.000000e+00]\n",
      "0 Parameter containing:\n",
      "tensor([1.6107, 3.0000], requires_grad=True)\n",
      "whats this value? 5.006484\n",
      "grads [0. 0.]\n",
      "0 Parameter containing:\n",
      "tensor([1.6107, 3.0000], requires_grad=True)\n",
      "whats this value? 5.006484\n",
      "grads [0. 0.]\n",
      "0 Parameter containing:\n",
      "tensor([1.6107, 3.0000], requires_grad=True)\n",
      "whats this value? 5.006484\n",
      "grads [0. 0.]\n",
      "0 Parameter containing:\n",
      "tensor([1.6107, 3.0000], requires_grad=True)\n",
      "whats this value? 5.006484\n",
      "grads [0. 0.]\n",
      "0 Parameter containing:\n",
      "tensor([1.6107, 3.0000], requires_grad=True)\n",
      "whats this value? 5.006484\n",
      "grads [0. 0.]\n",
      "0 Parameter containing:\n",
      "tensor([1.6107, 3.0000], requires_grad=True)\n",
      "whats this value? 5.006484\n",
      "grads [0. 0.]\n",
      "0 Parameter containing:\n",
      "tensor([1.6107, 3.0000], requires_grad=True)\n",
      "whats this value? 5.006484\n"
     ]
    },
    {
     "ename": "KeyboardInterrupt",
     "evalue": "",
     "output_type": "error",
     "traceback": [
      "\u001b[1;31m---------------------------------------------------------------------------\u001b[0m",
      "\u001b[1;31mKeyboardInterrupt\u001b[0m                         Traceback (most recent call last)",
      "\u001b[1;32m~\\AppData\\Local\\Temp\\ipykernel_27228\\1015543177.py\u001b[0m in \u001b[0;36m<module>\u001b[1;34m\u001b[0m\n\u001b[0;32m      1\u001b[0m \u001b[0mvals\u001b[0m \u001b[1;33m=\u001b[0m \u001b[1;33m[\u001b[0m\u001b[1;33m]\u001b[0m\u001b[1;33m\u001b[0m\u001b[1;33m\u001b[0m\u001b[0m\n\u001b[0;32m      2\u001b[0m \u001b[1;32mfor\u001b[0m \u001b[0mi\u001b[0m \u001b[1;32min\u001b[0m \u001b[0mrange\u001b[0m\u001b[1;33m(\u001b[0m\u001b[1;36m1000\u001b[0m\u001b[1;33m)\u001b[0m\u001b[1;33m:\u001b[0m\u001b[1;33m\u001b[0m\u001b[1;33m\u001b[0m\u001b[0m\n\u001b[1;32m----> 3\u001b[1;33m     \u001b[0madj\u001b[0m\u001b[1;33m.\u001b[0m\u001b[0madjoint_sensitivity\u001b[0m\u001b[1;33m(\u001b[0m\u001b[1;36m1\u001b[0m\u001b[1;33m,\u001b[0m \u001b[0mnp\u001b[0m\u001b[1;33m.\u001b[0m\u001b[0marray\u001b[0m\u001b[1;33m(\u001b[0m\u001b[1;33m[\u001b[0m\u001b[1;36m1\u001b[0m\u001b[1;33m]\u001b[0m\u001b[1;33m,\u001b[0m \u001b[0mdtype\u001b[0m\u001b[1;33m=\u001b[0m\u001b[0mnp\u001b[0m\u001b[1;33m.\u001b[0m\u001b[0mfloat32\u001b[0m\u001b[1;33m)\u001b[0m\u001b[1;33m)\u001b[0m\u001b[1;33m\u001b[0m\u001b[1;33m\u001b[0m\u001b[0m\n\u001b[0m\u001b[0;32m      4\u001b[0m     \u001b[0madj\u001b[0m\u001b[1;33m.\u001b[0m\u001b[0mdescend\u001b[0m\u001b[1;33m(\u001b[0m\u001b[1;36m.01\u001b[0m\u001b[1;33m)\u001b[0m\u001b[1;33m\u001b[0m\u001b[1;33m\u001b[0m\u001b[0m\n\u001b[0;32m      5\u001b[0m \u001b[1;33m\u001b[0m\u001b[0m\n",
      "\u001b[1;32m~\\Desktop\\Steve\\NeuralODE\\Adjoint_Implementation.py\u001b[0m in \u001b[0;36madjoint_sensitivity\u001b[1;34m(self, final_time, init_position)\u001b[0m\n\u001b[0;32m    411\u001b[0m         \u001b[1;31m# this determines the final_position point\u001b[0m\u001b[1;33m\u001b[0m\u001b[1;33m\u001b[0m\u001b[1;33m\u001b[0m\u001b[0m\n\u001b[0;32m    412\u001b[0m         \u001b[1;32mwith\u001b[0m \u001b[0mtorch\u001b[0m\u001b[1;33m.\u001b[0m\u001b[0mno_grad\u001b[0m\u001b[1;33m(\u001b[0m\u001b[1;33m)\u001b[0m\u001b[1;33m:\u001b[0m\u001b[1;33m\u001b[0m\u001b[1;33m\u001b[0m\u001b[0m\n\u001b[1;32m--> 413\u001b[1;33m             \u001b[0mself\u001b[0m\u001b[1;33m.\u001b[0m\u001b[0mforward\u001b[0m\u001b[1;33m(\u001b[0m\u001b[0mfinal_time\u001b[0m\u001b[1;33m,\u001b[0m \u001b[0minit_position\u001b[0m\u001b[1;33m)\u001b[0m\u001b[1;33m\u001b[0m\u001b[1;33m\u001b[0m\u001b[0m\n\u001b[0m\u001b[0;32m    414\u001b[0m \u001b[1;33m\u001b[0m\u001b[0m\n\u001b[0;32m    415\u001b[0m         \u001b[1;31m# set the initial conditions for the adjoint dynamics\u001b[0m\u001b[1;33m\u001b[0m\u001b[1;33m\u001b[0m\u001b[1;33m\u001b[0m\u001b[0m\n",
      "\u001b[1;32m~\\Desktop\\Steve\\NeuralODE\\Adjoint_Implementation.py\u001b[0m in \u001b[0;36mforward\u001b[1;34m(self, final_time, init_position)\u001b[0m\n\u001b[0;32m    308\u001b[0m                 \u001b[0mself\u001b[0m\u001b[1;33m.\u001b[0m\u001b[0madjoint_sensitivity_data\u001b[0m\u001b[1;33m.\u001b[0m\u001b[0mfinal_time\u001b[0m\u001b[1;33m,\u001b[0m\u001b[1;33m\u001b[0m\u001b[1;33m\u001b[0m\u001b[0m\n\u001b[0;32m    309\u001b[0m                 \u001b[0mself\u001b[0m\u001b[1;33m.\u001b[0m\u001b[0madjoint_sensitivity_data\u001b[0m\u001b[1;33m.\u001b[0m\u001b[0minit_position\u001b[0m\u001b[1;33m,\u001b[0m\u001b[1;33m\u001b[0m\u001b[1;33m\u001b[0m\u001b[0m\n\u001b[1;32m--> 310\u001b[1;33m                 \u001b[0mself\u001b[0m\u001b[1;33m.\u001b[0m\u001b[0mdynamical_function\u001b[0m\u001b[1;33m,\u001b[0m\u001b[1;33m\u001b[0m\u001b[1;33m\u001b[0m\u001b[0m\n\u001b[0m\u001b[0;32m    311\u001b[0m             )\n\u001b[0;32m    312\u001b[0m         )\n",
      "\u001b[1;32m~\\AppData\\Local\\Temp\\ipykernel_27228\\821770187.py\u001b[0m in \u001b[0;36mEulerSolve\u001b[1;34m(t1, x0, f, dt, t0, reverse)\u001b[0m\n\u001b[0;32m     16\u001b[0m \u001b[1;33m\u001b[0m\u001b[0m\n\u001b[0;32m     17\u001b[0m         \u001b[1;32mif\u001b[0m \u001b[1;32mnot\u001b[0m \u001b[0mreverse\u001b[0m\u001b[1;33m:\u001b[0m\u001b[1;33m\u001b[0m\u001b[1;33m\u001b[0m\u001b[0m\n\u001b[1;32m---> 18\u001b[1;33m             \u001b[0mel\u001b[0m \u001b[1;33m+=\u001b[0m \u001b[0mdt\u001b[0m\u001b[1;33m*\u001b[0m\u001b[0mf\u001b[0m\u001b[1;33m(\u001b[0m\u001b[0mel\u001b[0m\u001b[1;33m)\u001b[0m\u001b[1;31m#, t)\u001b[0m\u001b[1;33m\u001b[0m\u001b[1;33m\u001b[0m\u001b[0m\n\u001b[0m\u001b[0;32m     19\u001b[0m         \u001b[1;32melse\u001b[0m\u001b[1;33m:\u001b[0m\u001b[1;33m\u001b[0m\u001b[1;33m\u001b[0m\u001b[0m\n\u001b[0;32m     20\u001b[0m             \u001b[0mel\u001b[0m \u001b[1;33m-=\u001b[0m \u001b[0mdt\u001b[0m\u001b[1;33m*\u001b[0m\u001b[0mf\u001b[0m\u001b[1;33m(\u001b[0m\u001b[0mel\u001b[0m\u001b[1;33m)\u001b[0m\u001b[1;31m#, t)\u001b[0m\u001b[1;33m\u001b[0m\u001b[1;33m\u001b[0m\u001b[0m\n",
      "\u001b[1;32m~\\Desktop\\Steve\\NeuralODE\\Adjoint_Implementation.py\u001b[0m in \u001b[0;36mdynamical_function\u001b[1;34m(self, position)\u001b[0m\n\u001b[0;32m    279\u001b[0m \u001b[1;33m\u001b[0m\u001b[0m\n\u001b[0;32m    280\u001b[0m             return (\n\u001b[1;32m--> 281\u001b[1;33m                 \u001b[0mself\u001b[0m\u001b[1;33m.\u001b[0m\u001b[0mtime_deriv_nn\u001b[0m\u001b[1;33m.\u001b[0m\u001b[0mforward\u001b[0m\u001b[1;33m(\u001b[0m\u001b[0mtorch\u001b[0m\u001b[1;33m.\u001b[0m\u001b[0mfrom_numpy\u001b[0m\u001b[1;33m(\u001b[0m\u001b[0mposition\u001b[0m\u001b[1;33m)\u001b[0m\u001b[1;33m.\u001b[0m\u001b[0mfloat\u001b[0m\u001b[1;33m(\u001b[0m\u001b[1;33m)\u001b[0m\u001b[1;33m)\u001b[0m\u001b[1;33m\u001b[0m\u001b[1;33m\u001b[0m\u001b[0m\n\u001b[0m\u001b[0;32m    282\u001b[0m                 \u001b[1;33m.\u001b[0m\u001b[0mdetach\u001b[0m\u001b[1;33m(\u001b[0m\u001b[1;33m)\u001b[0m\u001b[1;33m\u001b[0m\u001b[1;33m\u001b[0m\u001b[0m\n\u001b[0;32m    283\u001b[0m                 \u001b[1;33m.\u001b[0m\u001b[0mnumpy\u001b[0m\u001b[1;33m(\u001b[0m\u001b[1;33m)\u001b[0m\u001b[1;33m\u001b[0m\u001b[1;33m\u001b[0m\u001b[0m\n",
      "\u001b[1;32m~\\AppData\\Local\\Temp\\ipykernel_27228\\4130324246.py\u001b[0m in \u001b[0;36mforward\u001b[1;34m(self, x)\u001b[0m\n\u001b[0;32m     15\u001b[0m         \u001b[1;31m#print(x, self.f(x), torch.sin(self.f(x)*100))\u001b[0m\u001b[1;33m\u001b[0m\u001b[1;33m\u001b[0m\u001b[1;33m\u001b[0m\u001b[0m\n\u001b[0;32m     16\u001b[0m \u001b[1;33m\u001b[0m\u001b[0m\n\u001b[1;32m---> 17\u001b[1;33m         \u001b[1;32mreturn\u001b[0m \u001b[0mself\u001b[0m\u001b[1;33m.\u001b[0m\u001b[0mf\u001b[0m\u001b[1;33m[\u001b[0m\u001b[1;36m0\u001b[0m\u001b[1;33m]\u001b[0m\u001b[1;33m*\u001b[0m\u001b[0mx\u001b[0m\u001b[1;33m\u001b[0m\u001b[1;33m\u001b[0m\u001b[0m\n\u001b[0m\u001b[0;32m     18\u001b[0m \u001b[1;33m\u001b[0m\u001b[0m\n\u001b[0;32m     19\u001b[0m         \u001b[1;32mreturn\u001b[0m \u001b[0mtorch\u001b[0m\u001b[1;33m.\u001b[0m\u001b[0msin\u001b[0m\u001b[1;33m(\u001b[0m\u001b[0mself\u001b[0m\u001b[1;33m.\u001b[0m\u001b[0mf\u001b[0m\u001b[1;33m(\u001b[0m\u001b[0mx\u001b[0m\u001b[1;33m)\u001b[0m\u001b[1;33m)\u001b[0m\u001b[1;33m\u001b[0m\u001b[1;33m\u001b[0m\u001b[0m\n",
      "\u001b[1;31mKeyboardInterrupt\u001b[0m: "
     ]
    }
   ],
   "source": [
    "vals = []\n",
    "for i in range(1000):\n",
    "    adj.adjoint_sensitivity(1, np.array([1], dtype=np.float32))\n",
    "    adj.descend(.01)\n",
    "    \n",
    "    vals.append(np.exp([x for x in adj.time_deriv_nn.parameters()][0][0].detach().numpy()))\n",
    "    \n",
    "    print(\"whats this value?\", vals[-1])"
   ]
  },
  {
   "cell_type": "code",
   "execution_count": 12,
   "id": "9ec90d94",
   "metadata": {},
   "outputs": [
    {
     "data": {
      "text/plain": [
       "[<matplotlib.lines.Line2D at 0x1de7ffb9a08>]"
      ]
     },
     "execution_count": 12,
     "metadata": {},
     "output_type": "execute_result"
    },
    {
     "data": {
      "image/png": "[encoded data removed]",
      "text/plain": [
       "<Figure size 432x288 with 1 Axes>"
      ]
     },
     "metadata": {
      "needs_background": "light"
     },
     "output_type": "display_data"
    }
   ],
   "source": [
    "plt.plot(vals)"
   ]
  },
  {
   "cell_type": "code",
   "execution_count": null,
   "id": "adae401d",
   "metadata": {},
   "outputs": [],
   "source": [
    "[x for x in adj.time_deriv_nn.parameters()][0][0]"
   ]
  },
  {
   "cell_type": "code",
   "execution_count": null,
   "id": "4f786920",
   "metadata": {},
   "outputs": [],
   "source": [
    "adj.adjoint_sensitivity_data.path[-1]"
   ]
  },
  {
   "cell_type": "code",
   "execution_count": null,
   "id": "e61cb983",
   "metadata": {},
   "outputs": [],
   "source": [
    "adj.adjoint_sensitivity_data.path[-1]*2"
   ]
  },
  {
   "cell_type": "markdown",
   "id": "750291c5",
   "metadata": {},
   "source": [
    "# confirm this"
   ]
  },
  {
   "cell_type": "code",
   "execution_count": null,
   "id": "531d7608",
   "metadata": {},
   "outputs": [],
   "source": [
    "adj.adjoint_sensitivity_data.dl_dp"
   ]
  },
  {
   "cell_type": "code",
   "execution_count": null,
   "id": "2f97f553",
   "metadata": {},
   "outputs": [],
   "source": [
    "\n",
    "\n",
    "adj.adjoint_sensitivity_data.dl_dp"
   ]
  },
  {
   "cell_type": "code",
   "execution_count": null,
   "id": "b09d5f27",
   "metadata": {},
   "outputs": [],
   "source": [
    "2*np.exp(2*.1)"
   ]
  },
  {
   "cell_type": "code",
   "execution_count": null,
   "id": "d1848311",
   "metadata": {},
   "outputs": [],
   "source": [
    "np.exp(2)"
   ]
  },
  {
   "cell_type": "code",
   "execution_count": null,
   "id": "050f3ea3",
   "metadata": {},
   "outputs": [],
   "source": [
    "plt.plot(adj.adjoint_sensitivity_data.path)"
   ]
  },
  {
   "cell_type": "code",
   "execution_count": null,
   "id": "f99f00ee",
   "metadata": {},
   "outputs": [],
   "source": [
    "adj.adjoint_sensitivity_data.adjoint_param_path"
   ]
  },
  {
   "cell_type": "code",
   "execution_count": null,
   "id": "056bfe80",
   "metadata": {},
   "outputs": [],
   "source": [
    "plt.plot(adj.adjoint_sensitivity_data.path)"
   ]
  },
  {
   "cell_type": "code",
   "execution_count": null,
   "id": "dbfbf1a5",
   "metadata": {},
   "outputs": [],
   "source": [
    "adj.adjoint_sensitivity_data.path[-1]"
   ]
  },
  {
   "cell_type": "code",
   "execution_count": null,
   "id": "ee4f6813",
   "metadata": {},
   "outputs": [],
   "source": [
    "#plt.plot(adj.adjoint_sensitivity_data.path)\n",
    "plt.plot(adj.adjoint_sensitivity_data.adjoint_param_path)"
   ]
  },
  {
   "cell_type": "code",
   "execution_count": null,
   "id": "31874c9d",
   "metadata": {},
   "outputs": [],
   "source": [
    "plt.plot(adj.adjoint_sensitivity_data.adjoint_param_path[:, 0])\n",
    "plt.plot(adj.adjoint_sensitivity_data.path)"
   ]
  },
  {
   "cell_type": "code",
   "execution_count": null,
   "id": "2651b7ed",
   "metadata": {},
   "outputs": [],
   "source": [
    "adj.adjoint_sensitivity_data.adjoint_param_path.shape"
   ]
  },
  {
   "cell_type": "code",
   "execution_count": null,
   "id": "a62aefc1",
   "metadata": {},
   "outputs": [],
   "source": [
    "plt.plot(\n",
    "    adj.adjoint_sensitivity_data.path\n",
    ")"
   ]
  },
  {
   "cell_type": "code",
   "execution_count": null,
   "id": "089f187c",
   "metadata": {},
   "outputs": [],
   "source": [
    "plt.plot(\n",
    "    adj.adjoint_sensitivity_data.adjoint_path\n",
    ")"
   ]
  },
  {
   "cell_type": "code",
   "execution_count": null,
   "id": "389c65d1",
   "metadata": {},
   "outputs": [],
   "source": [
    "plt.plot(\n",
    "    adj.adjoint_sensitivity_data.adjoint_param_path\n",
    ")"
   ]
  },
  {
   "cell_type": "code",
   "execution_count": null,
   "id": "0995ffec",
   "metadata": {},
   "outputs": [],
   "source": []
  }
 ],
 "metadata": {
  "kernelspec": {
   "display_name": "Python 3 (ipykernel)",
   "language": "python",
   "name": "python3"
  },
  "language_info": {
   "codemirror_mode": {
    "name": "ipython",
    "version": 3
   },
   "file_extension": ".py",
   "mimetype": "text/x-python",
   "name": "python",
   "nbconvert_exporter": "python",
   "pygments_lexer": "ipython3",
   "version": "3.7.10"
  },
  "varInspector": {
   "cols": {
    "lenName": 16,
    "lenType": 16,
    "lenVar": 40
   },
   "kernels_config": {
    "python": {
     "delete_cmd_postfix": "",
     "delete_cmd_prefix": "del ",
     "library": "var_list.py",
     "varRefreshCmd": "print(var_dic_list())"
    },
    "r": {
     "delete_cmd_postfix": ") ",
     "delete_cmd_prefix": "rm(",
     "library": "var_list.r",
     "varRefreshCmd": "cat(var_dic_list()) "
    }
   },
   "types_to_exclude": [
    "module",
    "function",
    "builtin_function_or_method",
    "instance",
    "_Feature"
   ],
   "window_display": false
  }
 },
 "nbformat": 4,
 "nbformat_minor": 5
}
